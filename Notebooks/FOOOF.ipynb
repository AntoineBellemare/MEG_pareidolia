{
 "cells": [
  {
   "cell_type": "code",
   "execution_count": 3,
   "id": "8af29cc3",
   "metadata": {},
   "outputs": [
    {
     "name": "stdout",
     "output_type": "stream",
     "text": [
      "1.2.2\n"
     ]
    }
   ],
   "source": [
    "import os\n",
    "import numpy as np\n",
    "import mne\n",
    "print (mne.__version__)\n",
    "from scipy.io import loadmat, savemat\n",
    "from mne.io import read_raw_egi, read_raw_fif\n",
    "#import matplotlib.pyplot as plt\n",
    "#%matplotlib notebook\n",
    "import sys\n",
    "from mne.preprocessing import ICA, create_eog_epochs, create_ecg_epochs\n",
    "sys.path.insert(0, 'C:/Users/Antoine/github/MEG_pareidolia/python_scripts/Functions')\n",
    "import MEG_pareidolia_utils\n",
    "from MEG_pareidolia_utils import *\n",
    "\n",
    "from mne.preprocessing import ICA, create_eog_epochs, create_ecg_epochs\n",
    "from mne.io import read_raw_ctf, read_raw_fif\n",
    "#from matplotlib.pyplot import plot as plt\n",
    "#from matplotlib.pyplot import close as closefig\n",
    "import mne\n",
    "import numpy as np\n",
    "from scipy.io import loadmat\n",
    "import pandas as pd\n",
    "import os\n",
    "from IPython.display import clear_output\n",
    "import time\n",
    "import PARAMS\n",
    "from PARAMS import *"
   ]
  },
  {
   "cell_type": "code",
   "execution_count": 4,
   "id": "733b99bf",
   "metadata": {},
   "outputs": [],
   "source": [
    "def compute_FOOOF(epochs, function=psd_welch, tmin = None, tmax = None, max_freq=150, participant=None, bloc=None):\n",
    "    #epochs are cropped as desire (tmin could be before '0', ex: -1.5, depending on the values used during epoching)\n",
    "    epochs = epochs.apply_baseline((-1.5, -0.1))\n",
    "    epochs.pick_types(meg=True, ref_meg=False)\n",
    "    epochs = epochs.crop(tmin, tmax)\n",
    "    print(epochs.get_data().shape)\n",
    "    epo_data = epochs.get_data()\n",
    "    exps = []\n",
    "    df = pd.DataFrame(columns=['offset', 'exp', 'peaks_center', 'amps', 'width', 'participant', 'bloc', 'trial', 'electrode'])\n",
    "    #This loop iterates for each epoch\n",
    "    i=0\n",
    "    for t in range(len(epo_data)):\n",
    "        exps_elec = []\n",
    "        for elec in range(len(epo_data[t])):\n",
    "            offset, exp, cf, amp, width = FOOOF_aperiodic(epo_data[t][elec], 1200, precision=0.5, max_freq=max_freq, noverlap=None,\n",
    "                                                          nperseg=None, nfft=None,\n",
    "                                                          extended_returns=False, graph=False)\n",
    "            df.loc[i] = offset, exp, cf, amp, width, participant, bloc, t, elec\n",
    "            i+=1\n",
    "\n",
    "    return df"
   ]
  },
  {
   "cell_type": "code",
   "execution_count": 46,
   "id": "86ec428a",
   "metadata": {},
   "outputs": [],
   "source": [
    "def FOOOF_aperiodic(data, sf, precision=0.1, max_freq=80, min_freq=2,\n",
    "                    noverlap=None,\n",
    "                  nperseg=None, nfft=None,\n",
    "                  extended_returns=False, graph=False):\n",
    "\n",
    "    if nperseg is None:\n",
    "        mult = 1/precision\n",
    "        nfft = sf*mult\n",
    "        nperseg = nfft\n",
    "        noverlap = nperseg//10\n",
    "    freqs1, psd = welch(data, sf, nfft=nfft,\n",
    "                                     nperseg=nperseg, noverlap=noverlap)\n",
    "    fm = FOOOF(peak_width_limits=[precision*2, 3], max_n_peaks=50,\n",
    "               min_peak_height=0.3)\n",
    "\n",
    "    freq_range = [(sf/len(data))*2, max_freq]\n",
    "    fm.fit(freqs1, psd, freq_range)\n",
    "    if graph is True:\n",
    "        fm.report(freqs1, psd, freq_range)\n",
    "\n",
    "    try:\n",
    "        offset = fm.get_params('aperiodic_params')[0]\n",
    "        exp = fm.get_params('aperiodic_params')[1]\n",
    "    except:\n",
    "        offset = 'NaN'\n",
    "        exp = 'NaN'\n",
    "    cf = [x[0] for x in fm.get_params('peak_params')]\n",
    "    amp = [x[1] for x in fm.get_params('peak_params')]\n",
    "    width = [x[2] for x in fm.get_params('peak_params')]\n",
    "    return offset, exp, cf, amp, width, fm.fooofed_spectrum_, fm.freq_range, fm.freq_res"
   ]
  },
  {
   "cell_type": "code",
   "execution_count": null,
   "id": "6f4e0bcb",
   "metadata": {},
   "outputs": [],
   "source": []
  },
  {
   "cell_type": "code",
   "execution_count": 16,
   "id": "87861c8b",
   "metadata": {},
   "outputs": [
    {
     "name": "stdout",
     "output_type": "stream",
     "text": [
      "Reading D:\\PsychoPy_MEG\\BIDS_data\\sub-00\\ses-recording\\meg\\sub-00_ses-recording_task-pareidolia_run-1_epo_RT.fif ...\n",
      "    Found the data of interest:\n",
      "        t =   -2000.00 ...    -500.00 ms\n",
      "        0 CTF compensation matrices available\n",
      "Adding metadata with 7 columns\n"
     ]
    },
    {
     "name": "stderr",
     "output_type": "stream",
     "text": [
      "C:\\Users\\Antoine\\AppData\\Local\\Temp\\ipykernel_15880\\2667648498.py:7: RuntimeWarning: This filename (D:\\PsychoPy_MEG\\BIDS_data\\sub-00\\ses-recording\\meg\\sub-00_ses-recording_task-pareidolia_run-1_epo_RT.fif) does not conform to MNE naming conventions. All epochs files should end with -epo.fif, -epo.fif.gz, _epo.fif or _epo.fif.gz\n",
      "  epochs = mne.read_epochs(epochs_path)\n"
     ]
    },
    {
     "name": "stdout",
     "output_type": "stream",
     "text": [
      "52 matching events found\n",
      "No baseline correction applied\n",
      "0 projection items activated\n",
      "Applying baseline correction (mode: mean)\n"
     ]
    }
   ],
   "source": [
    "subj = '00'\n",
    "run = 1\n",
    "tmin=-1.5\n",
    "tmax=-0.5\n",
    "\n",
    "epochs_name, epochs_path = get_pareidolia_bids(FOLDERPATH, subj, 'pareidolia', run, stage = 'epo_RT')\n",
    "epochs = mne.read_epochs(epochs_path)\n",
    "epochs = epochs.apply_baseline((-2, -1.5))\n",
    "epochs.pick_types(meg=True, ref_meg=False)\n",
    "epochs = epochs.crop(tmin, tmax)\n",
    "epochs_data = epochs.get_data()"
   ]
  },
  {
   "cell_type": "code",
   "execution_count": 47,
   "id": "aa8a0c27",
   "metadata": {},
   "outputs": [],
   "source": [
    "max_freq = 80\n",
    "noverlap=1\n",
    "nperseg = 600\n",
    "nfft = 1200\n",
    "\n",
    "data = epochs_data[10][29]\n",
    "offset, exp, cf, amp, width, det_spec, f_range, f_res = FOOOF_aperiodic(data, 1200, precision=1, max_freq=max_freq, min_freq=2, noverlap=noverlap,\n",
    "                                                                          nperseg=nperseg, nfft=nfft,\n",
    "                                                                          extended_returns=False, graph=False)"
   ]
  },
  {
   "cell_type": "code",
   "execution_count": 48,
   "id": "6182db00",
   "metadata": {},
   "outputs": [
    {
     "data": {
      "text/plain": [
       "[2.0, 80.0]"
      ]
     },
     "execution_count": 48,
     "metadata": {},
     "output_type": "execute_result"
    }
   ],
   "source": [
    "f_range"
   ]
  },
  {
   "cell_type": "code",
   "execution_count": 35,
   "id": "9f6d02c1",
   "metadata": {},
   "outputs": [],
   "source": [
    "freqs1, psd = welch(data, 1200, nfft=nfft,\n",
    "                                     nperseg=nperseg, noverlap=noverlap)"
   ]
  },
  {
   "cell_type": "code",
   "execution_count": 45,
   "id": "c77c87c9",
   "metadata": {},
   "outputs": [
    {
     "data": {
      "text/plain": [
       "1.2008110259374822"
      ]
     },
     "execution_count": 45,
     "metadata": {},
     "output_type": "execute_result"
    }
   ],
   "source": [
    "detrend_psd = fm.fooofed_spectrum_\n",
    "fm.freq_range\n",
    "fm.freq_res\n",
    "exp"
   ]
  }
 ],
 "metadata": {
  "kernelspec": {
   "display_name": "Python 3 (ipykernel)",
   "language": "python",
   "name": "python3"
  },
  "language_info": {
   "codemirror_mode": {
    "name": "ipython",
    "version": 3
   },
   "file_extension": ".py",
   "mimetype": "text/x-python",
   "name": "python",
   "nbconvert_exporter": "python",
   "pygments_lexer": "ipython3",
   "version": "3.9.13"
  }
 },
 "nbformat": 4,
 "nbformat_minor": 5
}
